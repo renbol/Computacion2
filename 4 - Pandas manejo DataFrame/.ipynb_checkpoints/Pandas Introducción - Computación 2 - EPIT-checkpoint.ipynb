{
 "cells": [
  {
   "cell_type": "markdown",
   "metadata": {},
   "source": [
    "<center> <h1>Universidad Nacional de San Agustín de Arequipa</h1> </center> \n",
    "<center> <h1>Escuela Profesional de Ingeniería de Telecomunicaciones</h1> </center> \n",
    "\n",
    "<center> <h1> </h1> </center> \n",
    "\n",
    "<center><img src=\"https://user-images.githubusercontent.com/19308295/115939517-f1c6fe80-a463-11eb-989c-812ab4942586.png\" width=\"380\" height=\"4200\"></center>"
   ]
  },
  {
   "cell_type": "markdown",
   "metadata": {},
   "source": [
    "<center> <h2>Ingeniero Renzo Bolivar - Docente DAIE</h2> </center> "
   ]
  },
  {
   "cell_type": "markdown",
   "metadata": {},
   "source": [
    "<center> <h1>Curso : Computación 2</h1> </center> "
   ]
  },
  {
   "cell_type": "markdown",
   "metadata": {},
   "source": [
    "![linea 1](https://user-images.githubusercontent.com/19308295/115926252-2b8a0c00-a448-11eb-9d9c-b43beaf0ff68.png)"
   ]
  },
  {
   "cell_type": "markdown",
   "metadata": {},
   "source": [
    "<center> <h1>PANDAS</h1> </center> "
   ]
  },
  {
   "cell_type": "markdown",
   "metadata": {},
   "source": [
    "![linea 1](https://user-images.githubusercontent.com/19308295/115926252-2b8a0c00-a448-11eb-9d9c-b43beaf0ff68.png)"
   ]
  },
  {
   "cell_type": "markdown",
   "metadata": {},
   "source": [
    "# Descripción:"
   ]
  },
  {
   "cell_type": "markdown",
   "metadata": {},
   "source": [
    "<div class=\"alert alert-info\">\n",
    "\n",
    "En este notebook se explicarán la librería **Pandas** escrita como extensión de **NumPy** para la manipulación y análisis de datos en el lenguaje de programación Python. \n",
    "    \n",
    "</div>\n",
    "\n"
   ]
  },
  {
   "cell_type": "markdown",
   "metadata": {},
   "source": [
    "# Objetivos:\n",
    "\n",
    " 1. Familiarizarce con creación de la estructura de tabla de datos **DataFrame.**\n",
    " 2. Manejo inicial de un **DataFrame.**\n",
    " 3. Importando archivos ***csv*** y manipulación inicial en **Pandas.**"
   ]
  },
  {
   "cell_type": "markdown",
   "metadata": {},
   "source": [
    "\n",
    "\n",
    "[1. Pandas](#1.-Pandas)<br>\n",
    "[2. Creación de DataFrame](#2.-Creación-de-DataFrame)<br>\n",
    "[3. DataFrame a partir de archivo CSV](#3.-DataFrame-a-partir-de-archivo-CSV)<br>\n",
    "[4. Estadistica DataFrame](#4.-Estadistica-DataFrame)<br>\n",
    "\n",
    "[EJEMPLOS](#EJEMPLOS)<br>\n",
    "[EJERCICIOS](#EJERCICIOS)<br>\n",
    "[BIBLIOGRAFÍA](#BIBLIOGRAFÍA)<br>"
   ]
  },
  {
   "cell_type": "markdown",
   "metadata": {},
   "source": [
    "![linea 1](https://user-images.githubusercontent.com/19308295/115926252-2b8a0c00-a448-11eb-9d9c-b43beaf0ff68.png)"
   ]
  },
  {
   "cell_type": "markdown",
   "metadata": {},
   "source": [
    "![640px-Pandas_logo svg](https://user-images.githubusercontent.com/19308295/119273971-1b925300-bbd3-11eb-9705-fa3a404af0e1.png)"
   ]
  },
  {
   "cell_type": "markdown",
   "metadata": {},
   "source": [
    "## <font color=#33A5FF>****1. Pandas****<tfont>"
   ]
  },
  {
   "cell_type": "markdown",
   "metadata": {},
   "source": [
    "<div class=\"well\">\n",
    "<strong>PanDaS  (Panel Data Set)</strong>  es una librería de Python para la <strong>ciencia de datos y Machine Learning</strong>, por muchas razones, ofrece estructuras de datos poderosas, expresivas y flexibles que facilitan la manipulación y análisis de datos. Entre las estructuras más utilizadas se encuentra el <strong>DataFrame</strong>.\n",
    "\n",
    "<strong>Pandas</strong> es una librería de código abierto de Python que proporciona herramientas de análisis y manipulación de datos de alto rendimiento utilizando sus potentes estructuras de datos.\n",
    "    \n",
    "    \n",
    "</div>"
   ]
  },
  {
   "cell_type": "markdown",
   "metadata": {},
   "source": [
    "<div class=\"well\">\n",
    "La librería <strong>Pandas</strong> se desarrollo debido a la necesidad de tener una herramienta flexible de alto rendimiento para el análisis de datos, construido sobre Numpy. En Python se utiliza  <strong>pandas</strong> en Machine Learning para la manipulación y preparación de datos. \n",
    "\n",
    "Usando esta librería podemos lograr cinco pasos típicos en el procesamiento y análisis de datos, independientemente del origen de los datos:\n",
    "</div>\n",
    "     \n",
    "    \n",
    "   - Cargar\n",
    "   - Preparar\n",
    "   - Manipular\n",
    "   - Modelar\n",
    "   - Analizar\n",
    "    \n"
   ]
  },
  {
   "cell_type": "markdown",
   "metadata": {},
   "source": [
    "<div class=\"well\">\n",
    "    Caracteristicas principales de de la librería <strong>Pandas</strong>.\n",
    "</div>   \n",
    "   \n",
    "   \n",
    "   \n",
    "   - Objeto DataFrame rápido y eficiente con indexación predeterminada y personalizada.\n",
    "   - Alto rendimiento para cargar datos en objetos de datos en memoria desde diferentes formatos de archivo.\n",
    "   - Alineación de datos y manejo integrado de datos faltantes.\n",
    "   - Remodelación y giro de conjuntos de fechas.\n",
    "   - Etiquetado, corte, indexación y subconjunto de grandes conjuntos de datos.\n",
    "   - Las columnas de una estructura de datos se pueden eliminar o insertar.\n",
    "   - Agrupa por datos para agregación y transformaciones.\n",
    "   - Alto rendimiento de fusión y unión de datos.\n",
    "   - Funcionalidad de la serie de tiempo.\n"
   ]
  },
  {
   "cell_type": "markdown",
   "metadata": {},
   "source": [
    "## DataFrame"
   ]
  },
  {
   "cell_type": "markdown",
   "metadata": {},
   "source": [
    "<div class=\"well\">\n",
    "Es una estructura de datos muy utilizada en <strong>pandas</strong>, es tabular bidimensional de tamaño variable y potencialmente heterogénea con ejes etiquetados (filas y columnas). \n",
    "\n",
    "Un <strong>DataFrame</strong>  es una estructura de datos bidimensional, es decir, los datos se alinean de forma tabular en filas y columnas. Pandas DataFrame consta de tres componentes principales:\n",
    "</div>\n",
    "\n",
    "\n",
    "\n",
    "   - Los datos\n",
    "   - Las filas\n",
    "   - Las columnas"
   ]
  },
  {
   "cell_type": "markdown",
   "metadata": {},
   "source": [
    "![Pantas_DataFrame](https://user-images.githubusercontent.com/19308295/119273989-44b2e380-bbd3-11eb-96d1-bd7e8a928fd6.png)"
   ]
  },
  {
   "cell_type": "markdown",
   "metadata": {},
   "source": [
    "<div class=\"alert alert-info\">\n",
    "\n",
    "Si hablamos de la estructura de un **DataFrame** es muy similar a la de una matriz. Pero en una matriz solamente se admiten valores numéricos, a diferencia de la matriz, en un **DataFrame** se puede incluir también datos alfanuméricos en su contenido. \n",
    "\n",
    "\n",
    "</div>"
   ]
  },
  {
   "cell_type": "markdown",
   "metadata": {},
   "source": [
    "![linea 2](https://user-images.githubusercontent.com/19308295/115926262-2fb62980-a448-11eb-8189-c2f10e499944.png)"
   ]
  },
  {
   "cell_type": "markdown",
   "metadata": {},
   "source": [
    "## <font color=#33A5FF>****2. Creación de DataFrame****<tfont>"
   ]
  },
  {
   "cell_type": "code",
   "execution_count": null,
   "metadata": {},
   "outputs": [],
   "source": [
    "#Librerías\n",
    "\n"
   ]
  },
  {
   "cell_type": "markdown",
   "metadata": {},
   "source": [
    "###  A partir de diccionarios de listas"
   ]
  },
  {
   "cell_type": "code",
   "execution_count": null,
   "metadata": {},
   "outputs": [],
   "source": [
    "#Datos en listas\n",
    "\n",
    "\n",
    "\n",
    "#DataFrame\n",
    "\n",
    "\n",
    "\n",
    "#Impresión lista con print Spyder\n",
    "\n",
    "\n",
    "\n",
    "#Impresión con función head()\n",
    "\n"
   ]
  },
  {
   "cell_type": "code",
   "execution_count": null,
   "metadata": {},
   "outputs": [],
   "source": [
    "#Datos en listas\n",
    "\n",
    "\n",
    "\n",
    "\n",
    "#DataFrame\n",
    "\n",
    "\n",
    "\n",
    "#Impresión lista con print Spyder\n",
    "\n",
    "\n",
    "\n",
    "#Impresión con función head()\n",
    "\n"
   ]
  },
  {
   "cell_type": "code",
   "execution_count": null,
   "metadata": {},
   "outputs": [],
   "source": [
    "#Imprimir solo una columna Spyder\n",
    "\n"
   ]
  },
  {
   "cell_type": "code",
   "execution_count": null,
   "metadata": {},
   "outputs": [],
   "source": [
    "#Imprimir solo una columna\n",
    "\n"
   ]
  },
  {
   "cell_type": "markdown",
   "metadata": {},
   "source": [
    "### A partir de un numpy array de 2D"
   ]
  },
  {
   "cell_type": "code",
   "execution_count": null,
   "metadata": {},
   "outputs": [],
   "source": [
    "#A partir de Array 2D de 5 filas con 3 columnas\n",
    "\n",
    "\n",
    "\n",
    "\n",
    "#Impresión con función head()\n",
    "\n"
   ]
  },
  {
   "cell_type": "code",
   "execution_count": null,
   "metadata": {},
   "outputs": [],
   "source": [
    "#forma dataframe spyder\n",
    "\n",
    "\n",
    "\n",
    "#altura dataframe spyder\n",
    "\n"
   ]
  },
  {
   "cell_type": "markdown",
   "metadata": {},
   "source": [
    "![linea 2](https://user-images.githubusercontent.com/19308295/115926262-2fb62980-a448-11eb-8189-c2f10e499944.png)"
   ]
  },
  {
   "cell_type": "markdown",
   "metadata": {},
   "source": [
    "## <font color=#33A5FF>****3. DataFrame a partir de archivo CSV****<tfont>"
   ]
  },
  {
   "cell_type": "markdown",
   "metadata": {},
   "source": [
    "## CSV separado por comas:"
   ]
  },
  {
   "cell_type": "markdown",
   "metadata": {},
   "source": [
    "Se adjunta un archivo `data.zip` a la practica, se debe crear la carpeta `data` con los archivos del `data.zip`."
   ]
  },
  {
   "cell_type": "code",
   "execution_count": null,
   "metadata": {},
   "outputs": [],
   "source": [
    "#archivo CSV separado por comas\n",
    "\n",
    "\n",
    "#leer 5 primeras lineas\n"
   ]
  },
  {
   "cell_type": "code",
   "execution_count": null,
   "metadata": {},
   "outputs": [],
   "source": [
    "#leer 5 últimas lineas\n"
   ]
  },
  {
   "cell_type": "code",
   "execution_count": null,
   "metadata": {},
   "outputs": [],
   "source": [
    "#Para imprimir en Spyder\n"
   ]
  },
  {
   "cell_type": "markdown",
   "metadata": {},
   "source": [
    "### CSV separado por tabulacion:"
   ]
  },
  {
   "cell_type": "code",
   "execution_count": null,
   "metadata": {},
   "outputs": [],
   "source": [
    "#archivo CSV separado por comas\n",
    "\n",
    "\n",
    "#leer 5 primeras lineas\n"
   ]
  },
  {
   "cell_type": "markdown",
   "metadata": {},
   "source": [
    "![linea 2](https://user-images.githubusercontent.com/19308295/115926262-2fb62980-a448-11eb-8189-c2f10e499944.png)"
   ]
  },
  {
   "cell_type": "markdown",
   "metadata": {},
   "source": [
    "## <font color=#33A5FF>****4. Estadistica DataFrame****<tfont>"
   ]
  },
  {
   "cell_type": "markdown",
   "metadata": {},
   "source": [
    "<div class=\"well\">\n",
    "En <strong>Pandas</strong>  podemos hallar con pocos comandos de manera muy sencilla y rapida <strong>la estadistica</strong> de los datos de todo tipo de archivos. Comenzamos con archivos <code>csv</code>.   \n",
    "</div>"
   ]
  },
  {
   "cell_type": "code",
   "execution_count": null,
   "metadata": {},
   "outputs": [],
   "source": [
    "#cargamos un archivo CSV separado por punto y coma (importado excel)\n",
    "\n",
    "\n",
    "#leer 10 primeras lineas\n",
    "\n",
    "#imprimir toda la lista\n",
    "#print(notas)"
   ]
  },
  {
   "cell_type": "markdown",
   "metadata": {},
   "source": [
    "`describe()` : muestra estadísticas de resumen para las columnas numéricas."
   ]
  },
  {
   "cell_type": "code",
   "execution_count": null,
   "metadata": {},
   "outputs": [],
   "source": [
    "#Estadísticas del DataFrame\n",
    "\n",
    "\n",
    "#impresión\n"
   ]
  },
  {
   "cell_type": "markdown",
   "metadata": {},
   "source": [
    "Para los datos numéricos, el índice del resultado incluirá **cantidad de datos** `count`, **media** `mean`, desviación estandar `std`, **valor mínimo** `min`, **valor máximo**,los percentiles inferior de 25% y el percentil superior de 75%."
   ]
  },
  {
   "cell_type": "markdown",
   "metadata": {},
   "source": [
    "### Media de las columnas DataFrame"
   ]
  },
  {
   "cell_type": "code",
   "execution_count": null,
   "metadata": {},
   "outputs": [],
   "source": [
    "#Media de las columnas DataFrame\n",
    "\n",
    "\n",
    "#impresión print spyder\n"
   ]
  },
  {
   "cell_type": "code",
   "execution_count": null,
   "metadata": {},
   "outputs": [],
   "source": [
    "#impresión\n"
   ]
  },
  {
   "cell_type": "markdown",
   "metadata": {},
   "source": [
    "### Correlación del DataFrame"
   ]
  },
  {
   "cell_type": "code",
   "execution_count": null,
   "metadata": {},
   "outputs": [],
   "source": [
    "#Correlación del DataFrame\n",
    "\n",
    "\n",
    "#impresión\n"
   ]
  },
  {
   "cell_type": "markdown",
   "metadata": {},
   "source": [
    "### Cuenta los datos del DataFrame "
   ]
  },
  {
   "cell_type": "code",
   "execution_count": null,
   "metadata": {},
   "outputs": [],
   "source": [
    "#Cuenta los datos del DataFrame no nulos\n",
    "\n",
    "\n",
    "#impresión\n"
   ]
  },
  {
   "cell_type": "markdown",
   "metadata": {},
   "source": [
    "### Valor más alto"
   ]
  },
  {
   "cell_type": "code",
   "execution_count": null,
   "metadata": {},
   "outputs": [],
   "source": [
    "#Valor más alto de cada columna del DataFrame\n",
    "\n",
    "\n",
    "#impresión\n"
   ]
  },
  {
   "cell_type": "markdown",
   "metadata": {},
   "source": [
    "### Valor más bajo"
   ]
  },
  {
   "cell_type": "code",
   "execution_count": null,
   "metadata": {},
   "outputs": [],
   "source": [
    "#Valor mínimo de cada columna del DataFrame\n",
    "\n",
    "\n",
    "#impresión\n"
   ]
  },
  {
   "cell_type": "markdown",
   "metadata": {},
   "source": [
    "### Mediana x Columna"
   ]
  },
  {
   "cell_type": "code",
   "execution_count": null,
   "metadata": {},
   "outputs": [],
   "source": [
    "#Mediana de cada columna del DataFrame\n",
    "\n",
    "\n",
    "#impresion\n"
   ]
  },
  {
   "cell_type": "markdown",
   "metadata": {},
   "source": [
    "### Desviación estándar x Columna "
   ]
  },
  {
   "cell_type": "code",
   "execution_count": null,
   "metadata": {},
   "outputs": [],
   "source": [
    "#Desviación estándar de cada columna del DataFrame\n",
    "\n",
    "\n",
    "#impresion\n"
   ]
  },
  {
   "cell_type": "markdown",
   "metadata": {},
   "source": [
    "##  Seleccionar un índice o columna"
   ]
  },
  {
   "cell_type": "markdown",
   "metadata": {},
   "source": [
    "Una de las funciones que son muy fáciles en **Pandas** es seleccionar los datos que deseas en comparación con seleccionar un valor de una lista o un diccionario. Puedes seleccionar una columna de manera muy fácil, solamente deberás indicar el índice de la misma."
   ]
  },
  {
   "cell_type": "code",
   "execution_count": null,
   "metadata": {},
   "outputs": [],
   "source": [
    "#Seleccionar la primera columna del DataFrame\n",
    "\n",
    "\n",
    "#impresión\n"
   ]
  },
  {
   "cell_type": "code",
   "execution_count": null,
   "metadata": {},
   "outputs": [],
   "source": [
    "#Seleccionar dos columnas del DataFrame\n",
    "\n",
    "\n",
    "#impresión\n"
   ]
  },
  {
   "cell_type": "code",
   "execution_count": null,
   "metadata": {},
   "outputs": [],
   "source": [
    "#Seleccionar el valor de la primera fila y última columna del DataFrame\n",
    "\n",
    "\n",
    "#impresión\n"
   ]
  },
  {
   "cell_type": "code",
   "execution_count": null,
   "metadata": {},
   "outputs": [],
   "source": [
    "#Seleccionar los valores de la primera fila del DataFrame\n",
    "\n",
    "\n",
    "#impresión\n"
   ]
  },
  {
   "cell_type": "code",
   "execution_count": null,
   "metadata": {},
   "outputs": [],
   "source": [
    "#Seleccionar los valores de la primera fila del DataFrame\n",
    "\n",
    "\n",
    "#impresión con iloc\n"
   ]
  },
  {
   "cell_type": "markdown",
   "metadata": {},
   "source": [
    "![linea 2](https://user-images.githubusercontent.com/19308295/115926262-2fb62980-a448-11eb-8189-c2f10e499944.png)"
   ]
  },
  {
   "cell_type": "markdown",
   "metadata": {},
   "source": [
    "## <font color=#33A5FF>****EJEMPLOS****<tfont>"
   ]
  },
  {
   "cell_type": "markdown",
   "metadata": {},
   "source": [
    "### Explorando datos"
   ]
  },
  {
   "cell_type": "code",
   "execution_count": null,
   "metadata": {},
   "outputs": [],
   "source": [
    "#cargamos un archivo CSV separado por punto y coma (importado excel)\n",
    "notas = pd.read_csv('data/notas.csv', ';')"
   ]
  },
  {
   "cell_type": "code",
   "execution_count": null,
   "metadata": {},
   "outputs": [],
   "source": [
    "notas.head()"
   ]
  },
  {
   "cell_type": "code",
   "execution_count": null,
   "metadata": {},
   "outputs": [],
   "source": [
    "#Tamaño de tabla\n",
    "notas.shape"
   ]
  },
  {
   "cell_type": "code",
   "execution_count": null,
   "metadata": {},
   "outputs": [],
   "source": [
    "#Tipos de datos de la columnas\n",
    "notas.dtypes"
   ]
  },
  {
   "cell_type": "code",
   "execution_count": null,
   "metadata": {},
   "outputs": [],
   "source": [
    "#Tipo de dato de la tabla\n",
    "type(notas)"
   ]
  },
  {
   "cell_type": "code",
   "execution_count": null,
   "metadata": {},
   "outputs": [],
   "source": [
    "#Nombre de las columnas\n",
    "notas.columns"
   ]
  },
  {
   "cell_type": "markdown",
   "metadata": {},
   "source": [
    "### SubConjuntos\n",
    "![subconjuntos](https://user-images.githubusercontent.com/19308295/119282515-8c4f6480-bbff-11eb-8432-581e44f4a2f0.png)"
   ]
  },
  {
   "cell_type": "code",
   "execution_count": null,
   "metadata": {},
   "outputs": [],
   "source": [
    "#Seleccionar SubConjunto con dos columnas del DataFrame en orden establecido\n",
    "notas.loc[:,['Promedio','Alumno']]"
   ]
  },
  {
   "cell_type": "markdown",
   "metadata": {},
   "source": [
    "### Operando entre columnas"
   ]
  },
  {
   "cell_type": "code",
   "execution_count": null,
   "metadata": {},
   "outputs": [],
   "source": [
    "#Nueva columa a partir de Operación entre columnas\n",
    "\n",
    "notas['Promedio 1 y 2'] = (notas['Nota1']+notas['Nota2'])/2\n",
    "\n",
    "notas.head()"
   ]
  },
  {
   "cell_type": "markdown",
   "metadata": {},
   "source": [
    "### Filtros\n",
    "![filtros](https://user-images.githubusercontent.com/19308295/119282563-b6a12200-bbff-11eb-82ee-606fbfe2ac1b.png)"
   ]
  },
  {
   "cell_type": "code",
   "execution_count": null,
   "metadata": {},
   "outputs": [],
   "source": [
    "#FILTRAR Cuantos alumnos califican como excelencia Promedio mayores o igual a 18\n",
    "#MÉTODO 1\n",
    "notas.loc[notas.Promedio >= 18]\n"
   ]
  },
  {
   "cell_type": "code",
   "execution_count": null,
   "metadata": {},
   "outputs": [],
   "source": [
    "#FILTRAR Cuantos alumnos califican como excelencia Promedio mayores o igual a 18\n",
    "#MÉTODO 2\n",
    "notas.loc[notas['Promedio'] >= 18]\n"
   ]
  },
  {
   "cell_type": "markdown",
   "metadata": {},
   "source": [
    "### Seleccionar Fila y Columnas\n",
    "![seleccion](https://user-images.githubusercontent.com/19308295/119283031-590dd500-bc01-11eb-93db-ee8a79b00103.png)"
   ]
  },
  {
   "cell_type": "code",
   "execution_count": null,
   "metadata": {},
   "outputs": [],
   "source": [
    "#Asignando resultado a otro DataFrame, con una sola columna 'Alumno'\n",
    "excelencia = notas.loc[notas['Promedio'] >= 18,['Alumno']]\n",
    "excelencia"
   ]
  },
  {
   "cell_type": "code",
   "execution_count": null,
   "metadata": {},
   "outputs": [],
   "source": [
    "#Tipo de tabla creada\n",
    "type(excelencia)"
   ]
  },
  {
   "cell_type": "code",
   "execution_count": null,
   "metadata": {},
   "outputs": [],
   "source": [
    "#Cantidad de excelencia\n",
    "excelencia.count()"
   ]
  },
  {
   "cell_type": "code",
   "execution_count": null,
   "metadata": {},
   "outputs": [],
   "source": [
    "len(excelencia)"
   ]
  },
  {
   "cell_type": "markdown",
   "metadata": {},
   "source": [
    "![linea 2](https://user-images.githubusercontent.com/19308295/115926262-2fb62980-a448-11eb-8189-c2f10e499944.png)"
   ]
  },
  {
   "cell_type": "markdown",
   "metadata": {},
   "source": [
    "## <font color=#33A5FF>****EJERCICIOS****<tfont>"
   ]
  },
  {
   "cell_type": "markdown",
   "metadata": {},
   "source": [
    "### Ejercicio 1 - Investigar Como? Abrir archivo `xlsx`"
   ]
  },
  {
   "cell_type": "markdown",
   "metadata": {},
   "source": [
    "<div class=\"well\">Abrilr el archivo <code>titanic.xlsx</code> (archivo en carpeta /data)\n",
    "    \n",
    "   1.- <strong>Usar nueva librería!!.</strong>\n",
    "\n",
    "   2.- <strong>Explorar la data.</strong>\n",
    "</div>"
   ]
  },
  {
   "cell_type": "markdown",
   "metadata": {},
   "source": [
    "### Ejercicio 2 - Investigar Como? Crear SubConjuntos"
   ]
  },
  {
   "cell_type": "markdown",
   "metadata": {},
   "source": [
    "<div class=\"well\">Crear <strong>Sub Conjuntos</strong> del DataFrame con las columnas: (visualizar solo 5 primeros)\n",
    "   \n",
    "   1.-<strong>Nombre</strong> con <strong>Edad</strong>\n",
    "   \n",
    "   2.-<strong>Sexo</strong> con <strong>Nombre</strong> y <strong>Clase</strong>\n",
    "    \n",
    "</div>"
   ]
  },
  {
   "cell_type": "markdown",
   "metadata": {},
   "source": [
    "### Ejercicio 3 - Investigar Como? Filtrar"
   ]
  },
  {
   "cell_type": "markdown",
   "metadata": {},
   "source": [
    "<div class=\"well\">Crear <strong>Filtros</strong> del DataFrame con: (visualizar solo 5 primeros)\n",
    "   \n",
    "   1.-Selección de los <strong>hombres</strong> que abordaron el titanic.\n",
    "   \n",
    "   2.-Selección de las <strong>mujeres</strong> que abordaron el titanic.\n",
    "    \n",
    "   3.-Personas con <strong>mas de 30 años</strong> que abordaron el titanic.\n",
    "    \n",
    "   4.-Personas que <strong>pertenecen a la clase 1 y 2</strong> del titanic.\n",
    "    \n",
    "   5.-Personas que <strong>registraron su edad.</strong>\n",
    "   \n",
    "    \n",
    "</div>"
   ]
  },
  {
   "cell_type": "markdown",
   "metadata": {},
   "source": [
    "### Ejercicio 4 - Investigar Como?  Seleccionar Filas y Columnas"
   ]
  },
  {
   "cell_type": "markdown",
   "metadata": {},
   "source": [
    "<div class=\"well\">Crear <strong>Selección</strong> del DataFrame con: \n",
    "   \n",
    "   1.-Selección de los <strong>nombres</strong> de pasajeros <strong>mayores de 30 años.</strong>\n",
    "   \n",
    "   2.-Selección de los <strong>nombres</strong> de las <strong>mujeres</strong> que tienen familiares que abordaron el titanic.\n",
    "    \n",
    "   3.-Selección de las <strong>filas 0 a 10 y las columnas 2 a 6.</strong>\n",
    "    \n",
    "   \n",
    "</div>"
   ]
  },
  {
   "cell_type": "markdown",
   "metadata": {},
   "source": [
    "### Ejercicio 5 - Investigar Como?  "
   ]
  },
  {
   "cell_type": "markdown",
   "metadata": {},
   "source": [
    "<div class=\"well\">Hallar los <strong>Valores</strong> del DataFrame: \n",
    "   \n",
    "   1.-<strong>Valor promedio</strong> de la edad de los pasajeros.\n",
    "   \n",
    "   2.-Pasajeros <strong>mujeres</strong> con <strong>mayor edad</strong> que abordaron el titanic.\n",
    "    \n",
    "   3.-Pasajeros <strong>mujeres</strong> con <strong>menor edad</strong> que abordaron el titanic.\n",
    "    \n",
    "   4.-Número <strong>total de pasajeros</strong> registrados en el titanic\n",
    "    \n",
    "   \n",
    "</div>"
   ]
  },
  {
   "cell_type": "markdown",
   "metadata": {},
   "source": [
    "![linea 2](https://user-images.githubusercontent.com/19308295/115926262-2fb62980-a448-11eb-8189-c2f10e499944.png)"
   ]
  },
  {
   "cell_type": "markdown",
   "metadata": {},
   "source": [
    "## <font color=#33A5FF>****BIBLIOGRAFÍA****<tfont>"
   ]
  },
  {
   "cell_type": "markdown",
   "metadata": {},
   "source": [
    "[1] Guía de pandas oficial https://pandas.pydata.org/docs/user_guide/index.html\n",
    "\n",
    "[2] Python Pandas Tutorial: A Complete Introduction for Beginners https://bit.ly/2AQMQld\n",
    "\n",
    "[3] Guía para pandas https://pybonacci.org/2014/05/30/pandas-i/\n",
    "\n",
    "[4] Dataset variados https://www.kaggle.com/datasets"
   ]
  },
  {
   "cell_type": "markdown",
   "metadata": {},
   "source": [
    "![linea 1](https://user-images.githubusercontent.com/19308295/115926252-2b8a0c00-a448-11eb-9d9c-b43beaf0ff68.png)"
   ]
  }
 ],
 "metadata": {
  "kernelspec": {
   "display_name": "Python 3",
   "language": "python",
   "name": "python3"
  },
  "language_info": {
   "codemirror_mode": {
    "name": "ipython",
    "version": 3
   },
   "file_extension": ".py",
   "mimetype": "text/x-python",
   "name": "python",
   "nbconvert_exporter": "python",
   "pygments_lexer": "ipython3",
   "version": "3.8.8"
  }
 },
 "nbformat": 4,
 "nbformat_minor": 4
}
