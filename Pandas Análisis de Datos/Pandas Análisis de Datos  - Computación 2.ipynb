{
 "cells": [
  {
   "cell_type": "markdown",
   "metadata": {},
   "source": [
    "<center> <h1>Universidad Nacional de San Agustín de Arequipa</h1> </center> \n",
    "<center> <h1>Escuela Profesional de Ingeniería de Telecomunicaciones</h1> </center> \n",
    "\n",
    "<center> <h1> </h1> </center> \n",
    "\n",
    "<center><img src=\"https://user-images.githubusercontent.com/19308295/115939517-f1c6fe80-a463-11eb-989c-812ab4942586.png\" width=\"380\" height=\"4200\"></center>"
   ]
  },
  {
   "cell_type": "markdown",
   "metadata": {},
   "source": [
    "<center> <h2>Ingeniero Renzo Bolivar - Docente DAIE</h2> </center> "
   ]
  },
  {
   "cell_type": "markdown",
   "metadata": {},
   "source": [
    "<center> <h1>Curso : Computación 2</h1> </center> "
   ]
  },
  {
   "cell_type": "markdown",
   "metadata": {},
   "source": [
    "![linea 1](https://user-images.githubusercontent.com/19308295/115926252-2b8a0c00-a448-11eb-9d9c-b43beaf0ff68.png)"
   ]
  },
  {
   "cell_type": "markdown",
   "metadata": {},
   "source": [
    "<center> <h1>PANDAS</h1> </center> "
   ]
  },
  {
   "cell_type": "markdown",
   "metadata": {},
   "source": [
    "![linea 1](https://user-images.githubusercontent.com/19308295/115926252-2b8a0c00-a448-11eb-9d9c-b43beaf0ff68.png)"
   ]
  },
  {
   "cell_type": "markdown",
   "metadata": {},
   "source": [
    "# Descripción:"
   ]
  },
  {
   "cell_type": "markdown",
   "metadata": {},
   "source": [
    "<div class=\"alert alert-info\">\n",
    "\n",
    "En este notebook se explicarán la librería **Pandas** escrita como extensión de **NumPy** para la manipulación y análisis de datos en el lenguaje de programación Python. \n",
    "    \n",
    "</div>\n",
    "\n"
   ]
  },
  {
   "cell_type": "markdown",
   "metadata": {},
   "source": [
    "# Objetivos:\n",
    "\n",
    " 1. Familiarizarce con creación de la estructura de tabla de datos **DataFrame.**\n",
    " 2. Manejo inicial de un **DataFrame.**\n",
    " 3. Importando archivos ***csv*** y manipulación inicial en **Pandas.**"
   ]
  },
  {
   "cell_type": "markdown",
   "metadata": {},
   "source": [
    "\n",
    "[1. Limpieza de Datos](#1.-Limpieza-de-Datos)<br>\n",
    "[2. Frecuencia Simple de Datos](#2.-Frecuencia-Simple-de-Datos)<br>\n",
    "[3. Archivo csv \"NBA\" y Funciones de busqueda](#3.-Archivo-csv-\"NBA\"-y-Funciones-de-busqueda)<br>\n",
    "[4. Análisis de Datos y Visualización](#4.-Análisis-de-Datos-y-Visualización)<br>\n",
    "\n",
    "[EJERCICIOS](#EJERCICIOS)<br>\n",
    "[BIBLIOGRAFÍA](#BIBLIOGRAFÍA)<br>"
   ]
  },
  {
   "cell_type": "markdown",
   "metadata": {},
   "source": [
    "![linea 1](https://user-images.githubusercontent.com/19308295/115926252-2b8a0c00-a448-11eb-9d9c-b43beaf0ff68.png)"
   ]
  },
  {
   "cell_type": "markdown",
   "metadata": {},
   "source": [
    "![640px-Pandas_logo svg](https://user-images.githubusercontent.com/19308295/119273971-1b925300-bbd3-11eb-9705-fa3a404af0e1.png)"
   ]
  },
  {
   "cell_type": "markdown",
   "metadata": {},
   "source": [
    "![linea 2](https://user-images.githubusercontent.com/19308295/115926262-2fb62980-a448-11eb-8189-c2f10e499944.png)"
   ]
  },
  {
   "cell_type": "markdown",
   "metadata": {},
   "source": [
    "## <font color=#33A5FF>****1. Limpieza de Datos****<tfont>"
   ]
  },
  {
   "cell_type": "code",
   "execution_count": null,
   "metadata": {},
   "outputs": [],
   "source": [
    "#Librerías\n",
    "import numpy as np\n",
    "import pandas as pd"
   ]
  },
  {
   "cell_type": "markdown",
   "metadata": {},
   "source": [
    "Otro procedimiento que podemos hacer con **Pandas** es ***limpiar nuestros datos***, estos es muy importante en **Machine Learning** si queremos obtener resultados confiables."
   ]
  },
  {
   "cell_type": "code",
   "execution_count": null,
   "metadata": {},
   "outputs": [],
   "source": [
    "#cargamos un archivo CSV separado por comas\n",
    "\n",
    "\n",
    "#leer 5 primeras lineas\n",
    "\n"
   ]
  },
  {
   "cell_type": "markdown",
   "metadata": {},
   "source": [
    "<div class=\"alert alert-info\">Con <strong>Pandas</strong> podemos verificar si faltan valores en el conjunto de datos solamente tenemos que implementar <code>pd.isnull()</code>. Implementando esta instrucción nos devuelve una matriz booleana, una matriz de <strong>verdadero</strong> para valores faltantes y <strong>falso</strong> para valores no perdidos.</div>"
   ]
  },
  {
   "cell_type": "code",
   "execution_count": null,
   "metadata": {},
   "outputs": [],
   "source": [
    "#Verificar si hay datos nulos en el DataFrame\n",
    "\n",
    "\n",
    "\n",
    "#Imprimir nulos TRUE\n"
   ]
  },
  {
   "cell_type": "markdown",
   "metadata": {},
   "source": [
    "<div class=\"alert alert-info\">Para obtener una <strong>suma de valores nulos o faltantes</strong> solamente se debe ejecutar la siguiente instrucción:</div>"
   ]
  },
  {
   "cell_type": "code",
   "execution_count": null,
   "metadata": {},
   "outputs": [],
   "source": [
    "#Suma de datos nulos en el DataFrame\n",
    "\n",
    "#imprimir\n",
    "\n"
   ]
  },
  {
   "cell_type": "markdown",
   "metadata": {},
   "source": [
    "<div class=\"alert alert-info\"> Ahora vamos a <strong>rellenar los valores perdidos</strong> con otros valores usando <code>df.fillna(x)</code> que reemplaza los valores perdidos con <code>x</code>, puede ser cualquier valor, inclusive se puede reemplar todos los valores nulos con la media de los datos.</div>"
   ]
  },
  {
   "cell_type": "code",
   "execution_count": null,
   "metadata": {},
   "outputs": [],
   "source": [
    "#Reemplaza los valores perdidos por un valor\n",
    "\n",
    "\n",
    "#Imprimir\n"
   ]
  },
  {
   "cell_type": "markdown",
   "metadata": {},
   "source": [
    "<div class=\"alert alert-info\"> Ahora para conservar los cambios <strong>generamos un nuevo archivo</strong>  <code>csv </code> con el resultado de la limpieza, utilizamos el comando <code>df.to_csv</code> que creara el nuevo archivo.</div>"
   ]
  },
  {
   "cell_type": "code",
   "execution_count": null,
   "metadata": {},
   "outputs": [],
   "source": [
    "#asignamos el resultado al DataFrame nota_final\n",
    "\n"
   ]
  },
  {
   "cell_type": "code",
   "execution_count": null,
   "metadata": {},
   "outputs": [],
   "source": [
    "#imprimimos para confirmar\n",
    "\n"
   ]
  },
  {
   "cell_type": "code",
   "execution_count": null,
   "metadata": {},
   "outputs": [],
   "source": [
    "#grabamos en otro archivo\n",
    "\n"
   ]
  },
  {
   "cell_type": "markdown",
   "metadata": {},
   "source": [
    "![linea 2](https://user-images.githubusercontent.com/19308295/115926262-2fb62980-a448-11eb-8189-c2f10e499944.png)"
   ]
  },
  {
   "cell_type": "markdown",
   "metadata": {},
   "source": [
    "## <font color=#33A5FF>****2. Frecuencia Simple de Datos****<tfont>"
   ]
  },
  {
   "cell_type": "markdown",
   "metadata": {},
   "source": [
    "<div class=\"alert alert-info\"> Vamos hallar la <strong>frecuencia</strong> de notas de un archivo  <code>csv</code> damos como resultado la nota mas alta</div>"
   ]
  },
  {
   "cell_type": "code",
   "execution_count": null,
   "metadata": {},
   "outputs": [],
   "source": [
    "#cargamos un archivo CSV separado por punto y coma\n",
    "\n"
   ]
  },
  {
   "cell_type": "code",
   "execution_count": null,
   "metadata": {},
   "outputs": [],
   "source": [
    "#nombres de columnas\n",
    "\n"
   ]
  },
  {
   "cell_type": "code",
   "execution_count": null,
   "metadata": {},
   "outputs": [],
   "source": [
    "#buscamos cuantos alumnos han sacado nota 20 en Promedio\n",
    "#creamos nuevo DataFrame con notas promedio y frecuencias\n",
    "\n"
   ]
  },
  {
   "cell_type": "code",
   "execution_count": null,
   "metadata": {},
   "outputs": [],
   "source": [
    "#localizar alumnos que han sacado 20 en su Nota3\n",
    "\n",
    "\n",
    "#variable\n",
    "\n",
    "\n",
    "\n",
    "#Impresion\n",
    "\n",
    "\n",
    "\n",
    "\n"
   ]
  },
  {
   "cell_type": "markdown",
   "metadata": {},
   "source": [
    "![linea 2](https://user-images.githubusercontent.com/19308295/115926262-2fb62980-a448-11eb-8189-c2f10e499944.png)"
   ]
  },
  {
   "cell_type": "markdown",
   "metadata": {},
   "source": [
    "## <font color=#33A5FF>****3. Archivo csv \"NBA\" y Funciones de busqueda****<tfont>"
   ]
  },
  {
   "cell_type": "markdown",
   "metadata": {},
   "source": [
    "<div class=\"alert alert-info\"> Las <strong>funciones de busqueda</strong> son básicas en <strong>pandas</strong> lo vamos aplicar a un archivo bajado de la pagina web Kaggle el mayor banco de dataset</div>"
   ]
  },
  {
   "cell_type": "code",
   "execution_count": null,
   "metadata": {},
   "outputs": [],
   "source": [
    "#cargamos un archivo CSV separado por comas con indice en columna \"Name\"\n",
    "\n",
    "\n",
    "#Impresión\n",
    "\n"
   ]
  },
  {
   "cell_type": "code",
   "execution_count": null,
   "metadata": {},
   "outputs": [],
   "source": [
    "#variables que busca en la columna \"Name\" y funcion `loc`\n",
    "\n",
    "\n",
    "\n",
    "#impresión\n",
    "\n"
   ]
  },
  {
   "cell_type": "markdown",
   "metadata": {},
   "source": [
    "![linea 2](https://user-images.githubusercontent.com/19308295/115926262-2fb62980-a448-11eb-8189-c2f10e499944.png)"
   ]
  },
  {
   "cell_type": "markdown",
   "metadata": {},
   "source": [
    "## <font color=#33A5FF>4. Análisis de Datos y Visualización<tfont>"
   ]
  },
  {
   "cell_type": "markdown",
   "metadata": {},
   "source": [
    "<div class=\"alert alert-info\">\n",
    "Colección de datos completo de COVID-19 mantenido por  <strong>Our World in Data</strong>\n",
    "(Investigación y datos para avanzar contra los mayores problemas del mundo). \n",
    "    \n",
    "Se actualiza diariamente e incluye datos sobre casos confirmados, muertes, hospitalizaciones, pruebas y vacunaciones, así como otras variables de posible interés.\n",
    "    \n",
    "    \n",
    "    https://github.com/owid/covid-19-data/tree/master/public/data\n",
    "    \n",
    "</div>"
   ]
  },
  {
   "cell_type": "markdown",
   "metadata": {},
   "source": [
    "### Vamos a leer los datos desde github de `Our World in Data` "
   ]
  },
  {
   "cell_type": "code",
   "execution_count": null,
   "metadata": {},
   "outputs": [],
   "source": [
    "url = 'https://github.com/owid/covid-19-data/blob/master/public/data/owid-covid-data.csv?raw=true'\n",
    "\n",
    "\n",
    "\n"
   ]
  },
  {
   "cell_type": "markdown",
   "metadata": {},
   "source": [
    "### Revisamos los datos"
   ]
  },
  {
   "cell_type": "code",
   "execution_count": null,
   "metadata": {},
   "outputs": [],
   "source": [
    "#Cantidad de Filas\n"
   ]
  },
  {
   "cell_type": "code",
   "execution_count": null,
   "metadata": {},
   "outputs": [],
   "source": [
    "#Cantidad de Filas y Columnas\n"
   ]
  },
  {
   "cell_type": "code",
   "execution_count": null,
   "metadata": {},
   "outputs": [],
   "source": [
    "#Valores de las columnas\n"
   ]
  },
  {
   "cell_type": "code",
   "execution_count": null,
   "metadata": {},
   "outputs": [],
   "source": [
    "#Información de los datos\n"
   ]
  },
  {
   "cell_type": "code",
   "execution_count": null,
   "metadata": {},
   "outputs": [],
   "source": [
    "#estadistica descriptiva de los datos\n"
   ]
  },
  {
   "cell_type": "markdown",
   "metadata": {},
   "source": [
    "### Interpretamos los datos encontrados"
   ]
  },
  {
   "cell_type": "markdown",
   "metadata": {},
   "source": [
    "#### Datos Negativos en Muertes por día"
   ]
  },
  {
   "cell_type": "code",
   "execution_count": null,
   "metadata": {},
   "outputs": [],
   "source": [
    "#Muertes por día negativos???   es extraño???\n"
   ]
  },
  {
   "cell_type": "markdown",
   "metadata": {},
   "source": [
    "---"
   ]
  },
  {
   "cell_type": "markdown",
   "metadata": {},
   "source": [
    "#### Datos Nulos NaN en nuevos casos por día"
   ]
  },
  {
   "cell_type": "code",
   "execution_count": null,
   "metadata": {},
   "outputs": [],
   "source": [
    "#Muertes por día NaN??\n"
   ]
  },
  {
   "cell_type": "code",
   "execution_count": null,
   "metadata": {},
   "outputs": [],
   "source": [
    "\n"
   ]
  },
  {
   "cell_type": "code",
   "execution_count": null,
   "metadata": {},
   "outputs": [],
   "source": [
    "#asognación temporal de valores nulos\n"
   ]
  },
  {
   "cell_type": "code",
   "execution_count": null,
   "metadata": {},
   "outputs": [],
   "source": [
    "#buscamos valores nulos NaN  en new_cases\n"
   ]
  },
  {
   "cell_type": "code",
   "execution_count": null,
   "metadata": {},
   "outputs": [],
   "source": [
    "#asignación definitiva de valores nulos\n"
   ]
  },
  {
   "cell_type": "code",
   "execution_count": null,
   "metadata": {},
   "outputs": [],
   "source": [
    "#buscamos valores nulos NaN en new_cases\n"
   ]
  },
  {
   "cell_type": "markdown",
   "metadata": {},
   "source": [
    "---"
   ]
  },
  {
   "cell_type": "markdown",
   "metadata": {},
   "source": [
    "#### Datos Nulos NaN en ingresos de PBI `gdp_per_capita`"
   ]
  },
  {
   "cell_type": "code",
   "execution_count": null,
   "metadata": {},
   "outputs": [],
   "source": [
    "\n",
    "\n"
   ]
  },
  {
   "cell_type": "code",
   "execution_count": null,
   "metadata": {},
   "outputs": [],
   "source": [
    "# Hallamos el promedio de `gdp_per_capita`\n",
    "\n"
   ]
  },
  {
   "cell_type": "code",
   "execution_count": null,
   "metadata": {},
   "outputs": [],
   "source": [
    "#Creamos una nueva columna con:\n",
    "\n"
   ]
  },
  {
   "cell_type": "code",
   "execution_count": null,
   "metadata": {},
   "outputs": [],
   "source": []
  },
  {
   "cell_type": "code",
   "execution_count": null,
   "metadata": {},
   "outputs": [],
   "source": []
  },
  {
   "cell_type": "markdown",
   "metadata": {},
   "source": [
    "### Preguntas?"
   ]
  },
  {
   "cell_type": "markdown",
   "metadata": {},
   "source": [
    "### Cuál es el país con el mayor life_expectancy?"
   ]
  },
  {
   "cell_type": "code",
   "execution_count": null,
   "metadata": {},
   "outputs": [],
   "source": []
  },
  {
   "cell_type": "markdown",
   "metadata": {},
   "source": [
    "### Qué país tiene la menor cantidad de fumadores masculinos?"
   ]
  },
  {
   "cell_type": "code",
   "execution_count": null,
   "metadata": {},
   "outputs": [],
   "source": []
  },
  {
   "cell_type": "markdown",
   "metadata": {},
   "source": [
    "### Qué país tiene la mayor cantidad de fallecimientos diarios a la fecha?"
   ]
  },
  {
   "cell_type": "code",
   "execution_count": null,
   "metadata": {},
   "outputs": [],
   "source": []
  },
  {
   "cell_type": "code",
   "execution_count": null,
   "metadata": {},
   "outputs": [],
   "source": []
  },
  {
   "cell_type": "markdown",
   "metadata": {},
   "source": [
    "---"
   ]
  },
  {
   "cell_type": "markdown",
   "metadata": {},
   "source": [
    "## Visualización de los datos, librería `Plotly`"
   ]
  },
  {
   "cell_type": "code",
   "execution_count": null,
   "metadata": {},
   "outputs": [],
   "source": [
    "#Librería plotly\n",
    "import plotly.express as px"
   ]
  },
  {
   "cell_type": "code",
   "execution_count": null,
   "metadata": {},
   "outputs": [],
   "source": []
  },
  {
   "cell_type": "code",
   "execution_count": null,
   "metadata": {},
   "outputs": [],
   "source": []
  },
  {
   "cell_type": "code",
   "execution_count": null,
   "metadata": {},
   "outputs": [],
   "source": [
    "#Creamos nuevo DataFrame con columnas 'life_expectancy', 'diabetes_prevalence', 'continent'\n",
    "\n",
    "\n",
    "#Gráfica de Dispersión con las 03 columnas\n",
    "\n",
    "\n"
   ]
  },
  {
   "cell_type": "code",
   "execution_count": null,
   "metadata": {},
   "outputs": [],
   "source": [
    "cv.head()"
   ]
  },
  {
   "cell_type": "code",
   "execution_count": null,
   "metadata": {},
   "outputs": [],
   "source": [
    "#Creamos nuevo DataFrame con columnas 'life_expectancy', 'diabetes_prevalence', 'continent'\n",
    "#'population', 'location'\n",
    "\n",
    "\n"
   ]
  },
  {
   "cell_type": "code",
   "execution_count": null,
   "metadata": {},
   "outputs": [],
   "source": [
    "#Grafica de Dispersión con la nueva data\n",
    "\n",
    "\n",
    "\n"
   ]
  },
  {
   "cell_type": "code",
   "execution_count": null,
   "metadata": {},
   "outputs": [],
   "source": [
    "#cambiamos el rango de la grafica\n",
    "\n",
    "\n",
    "\n"
   ]
  },
  {
   "cell_type": "markdown",
   "metadata": {},
   "source": [
    "---"
   ]
  },
  {
   "cell_type": "code",
   "execution_count": null,
   "metadata": {},
   "outputs": [],
   "source": [
    "#Grafica de pie total de casos el dia 28 mayo 2021.... (Fecha Actualizada)\n",
    "\n"
   ]
  },
  {
   "cell_type": "code",
   "execution_count": null,
   "metadata": {},
   "outputs": [],
   "source": [
    "#A partir de groupby creamos un DataFrame\n",
    "\n"
   ]
  },
  {
   "cell_type": "code",
   "execution_count": null,
   "metadata": {},
   "outputs": [],
   "source": [
    "#Asignamos a un Nuevo Data Frame\n",
    "\n"
   ]
  },
  {
   "cell_type": "code",
   "execution_count": null,
   "metadata": {},
   "outputs": [],
   "source": [
    "#Graficamos pie\n",
    "\n",
    "\n",
    "\n"
   ]
  },
  {
   "cell_type": "markdown",
   "metadata": {},
   "source": [
    "![linea 2](https://user-images.githubusercontent.com/19308295/115926262-2fb62980-a448-11eb-8189-c2f10e499944.png)"
   ]
  },
  {
   "cell_type": "markdown",
   "metadata": {},
   "source": [
    "## <font color=#33A5FF>****EJERCICIOS****<tfont>"
   ]
  },
  {
   "cell_type": "markdown",
   "metadata": {},
   "source": [
    "### Ejercicio 1 "
   ]
  },
  {
   "cell_type": "markdown",
   "metadata": {},
   "source": [
    "<div class=\"alert alert-info\">\n",
    "Crear un <strong>DataFrame</strong> desde la URL : \n",
    "    \n",
    "    \n",
    "    https://github.com/owid/covid-19-data/blob/master/public/data/owid-covid-data.csv?raw=true   \n",
    "    \n",
    "Responder las siguientes preguntas :\n",
    "</div>"
   ]
  },
  {
   "cell_type": "markdown",
   "metadata": {},
   "source": [
    "<div class=\"well\">\n",
    "   \n",
    "   1.-Que <strong>paises</strong> se encuentran en el DataFrame.\n",
    "   \n",
    "   2.-Cuantos registros hay por <strong>continente</strong>\n",
    "    \n",
    "   3.-Cuantos <strong>nuevos casos</strong> hubo como máximo en una fecha reportada por cada país?\n",
    "    \n",
    "   4.-Cuál es el país con el mayor <strong>GDP per cápita (PBI)</strong>?\n",
    "   \n",
    "   5.-Qué país tiene la mayor cantidad de <strong>fumadoras femeninas</strong>? \n",
    "    \n",
    "   6.-Qué país tiene la mayor cantidad de <strong>muertes por millón</strong>? \n",
    "    \n",
    "   7.-Qué país ha tomado las medidas <strong>más estrictas hasta ahora</strong>? \n",
    "    \n",
    "   8.-Cual fue el país en alcanzar los 10.000 <strong>casos activos por primera vez</strong>?\n",
    "    \n",
    "   \n",
    "</div>"
   ]
  },
  {
   "cell_type": "markdown",
   "metadata": {},
   "source": [
    "<div class=\"alert alert-info\">Creamos un nuevo <strong>DataFrame</strong> solo con los siguientes paises: <code>Peru, Guinea</code>. \n",
    "    \n",
    "   Respondemos las siguientes preguntas :\n",
    "\n",
    "</div>"
   ]
  },
  {
   "cell_type": "markdown",
   "metadata": {},
   "source": [
    "<div class=\"well\">\n",
    "   \n",
    "   9.-<strong>Cuantas filas</strong> hay por país ?.\n",
    "   \n",
    "   10.-Cuál es la <strong>fecha máxima</strong> por país ?.\n",
    "    \n",
    "   11.-Cuál es la <strong>fecha mínima</strong> por país ?.\n",
    "    \n",
    "   12.-Cuantos registros hay por <strong>\"continente\"</strong>?\n",
    "   \n",
    "   13.-Cuantos <strong>nuevos casos hubo como máximo</strong> en una fecha reportada por cada país?? \n",
    "    \n",
    "   \n",
    "</div>"
   ]
  },
  {
   "cell_type": "markdown",
   "metadata": {},
   "source": [
    "### Ejercicio 2"
   ]
  },
  {
   "cell_type": "markdown",
   "metadata": {},
   "source": [
    "<div class=\"well\">Visualizar el <strong>nombre del/(los) jugador(es) de la NBA</strong> de mayor <strong>edad</strong> usar columna <strong>Age</strong>, desde el archivo <code>nba.csv</code> (Carpeta <code>data_ejercicios</code> ) debera visualizar por pantalla <strong>todos los datos de dicho(s) jugador(es)</strong> y adicionalmente guardar la información en el archivo <code>nba_adulto.csv</code>(Carpeta <code>data_ejercicios</code>).\n",
    "\n",
    "\n",
    "</div>"
   ]
  },
  {
   "cell_type": "markdown",
   "metadata": {},
   "source": [
    "### Ejercicio 3 "
   ]
  },
  {
   "cell_type": "markdown",
   "metadata": {},
   "source": [
    "<div class=\"well\">Visualizar el <strong>nombre del/(los) jugador(es) de la NBA</strong> que han llevado estudios <strong>College</strong> en la ciudad de <strong>Kentucky</strong>, dato que se puede ubicar en la columna <strong>College</strong>, desde el archivo <code>nba.csv</code> (Carpeta <code>data_ejercicios </code> ) debera visualizar por pantalla <strong>todos los datos de dicho(s) jugador(es)</strong> y adicionalmente guardar la información en el archivo <code>nba_adulto.csv</code>.\n",
    "\n",
    "\n",
    "</div>"
   ]
  },
  {
   "cell_type": "markdown",
   "metadata": {},
   "source": [
    "### Ejercicio 4"
   ]
  },
  {
   "cell_type": "markdown",
   "metadata": {},
   "source": [
    "<div class=\"well\">Visualizar el <strong>nombre del/(los) estudiante(s) </strong> que deben viajar mas de <strong>01 hora</strong> dato que se puede ubicar en la columna <strong>traveltime</strong>, desde el archivo <code>student-mat.csv</code> (Carpeta <code>data_ejercicios </code> ) debera visualizar por pantalla <strong>todos los datos de dicho(s) alumno(s)</strong> y adicionalmente guardar la información en el archivo <code>student-travel.csv</code>.\n",
    "\n",
    "\n",
    "</div>"
   ]
  },
  {
   "cell_type": "markdown",
   "metadata": {},
   "source": [
    "### Ejercicio 5 "
   ]
  },
  {
   "cell_type": "markdown",
   "metadata": {},
   "source": [
    "<div class=\"well\">Visualizar el <strong>nombre del/(los) estudiante(s) </strong> que no poseen <strong>internet</strong> dato que se puede ubicar en la columna <strong>internet</strong>, desde el archivo <code>student-mat.csv</code> (Carpeta <code>data_ejercicios </code> ) debera visualizar por pantalla <strong>todos los datos de dicho(s) alumno(s)</strong> y adicionalmente guardar la información en el archivo <code>student-internet.csv</code>.\n",
    "\n",
    "\n",
    "</div>"
   ]
  },
  {
   "cell_type": "markdown",
   "metadata": {},
   "source": [
    "### Ejercicio 6 "
   ]
  },
  {
   "cell_type": "markdown",
   "metadata": {},
   "source": [
    "<div class=\"well\">Visualizar el <strong>nombre del/(los) estudiante(s) </strong> que son mayores de <strong>18 años</strong> dato que se puede ubicar en la columna <strong>age</strong>, desde el archivo <code>student-mat.csv</code> (Carpeta <code>data_ejercicios </code> ) debera visualizar por pantalla <strong>todos los datos de dicho(s) alumno(s)</strong> y adicionalmente guardar la información en el archivo <code>student-age.csv</code>.\n",
    "\n",
    "\n",
    "</div>"
   ]
  },
  {
   "cell_type": "markdown",
   "metadata": {},
   "source": [
    "<div class=\"alert alert-warning\">Database <code>student-mat.csv</code> fue sacado de <strong>Kaggle</strong>\n",
    "    autores:\n",
    "    \n",
    "\n",
    "    \n",
    "P. Cortez and A. Silva. Using Data Mining to Predict Secondary School Student Performance. In A. Brito and J. Teixeira Eds., Proceedings of 5th FUture BUsiness TEChnology Conference (FUBUTEC 2008) pp. 5-12, Porto, Portugal, April, 2008, EUROSIS, ISBN 978-9077381-39-7.\n",
    "\n",
    "    \n",
    "    \n",
    "</div> "
   ]
  },
  {
   "cell_type": "markdown",
   "metadata": {},
   "source": [
    "<div class=\"alert alert-warning\">\n",
    "    \n",
    "    \n",
    "web: https://www.kaggle.com/janiobachmann/math-students/data\n",
    "\n",
    "    \n",
    "</div> "
   ]
  },
  {
   "cell_type": "markdown",
   "metadata": {},
   "source": [
    "![linea 2](https://user-images.githubusercontent.com/19308295/115926262-2fb62980-a448-11eb-8189-c2f10e499944.png)"
   ]
  },
  {
   "cell_type": "markdown",
   "metadata": {},
   "source": [
    "## <font color=#33A5FF>****BIBLIOGRAFÍA****<tfont>"
   ]
  },
  {
   "cell_type": "markdown",
   "metadata": {},
   "source": [
    "[1] Guía de pandas oficial https://pandas.pydata.org/docs/user_guide/index.html\n",
    "\n",
    "[2] Python Pandas Tutorial: A Complete Introduction for Beginners https://bit.ly/2AQMQld\n",
    "\n",
    "[3] Guía para pandas https://pybonacci.org/2014/05/30/pandas-i/\n",
    "\n",
    "[4] Dataset variados https://www.kaggle.com/datasets"
   ]
  },
  {
   "cell_type": "markdown",
   "metadata": {},
   "source": [
    "![linea 1](https://user-images.githubusercontent.com/19308295/115926252-2b8a0c00-a448-11eb-9d9c-b43beaf0ff68.png)"
   ]
  }
 ],
 "metadata": {
  "kernelspec": {
   "display_name": "Python 3",
   "language": "python",
   "name": "python3"
  },
  "language_info": {
   "codemirror_mode": {
    "name": "ipython",
    "version": 3
   },
   "file_extension": ".py",
   "mimetype": "text/x-python",
   "name": "python",
   "nbconvert_exporter": "python",
   "pygments_lexer": "ipython3",
   "version": "3.8.8"
  }
 },
 "nbformat": 4,
 "nbformat_minor": 4
}
