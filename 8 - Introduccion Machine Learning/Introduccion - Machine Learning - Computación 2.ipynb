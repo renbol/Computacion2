{
 "cells": [
  {
   "cell_type": "markdown",
   "metadata": {},
   "source": [
    "<center> <h1>Universidad Nacional de San Agustín de Arequipa</h1> </center> \n",
    "<center> <h1>Escuela Profesional de Ingeniería de Telecomunicaciones</h1> </center> \n",
    "\n",
    "<center> <h1> </h1> </center> \n",
    "\n",
    "<center><img src=\"https://user-images.githubusercontent.com/19308295/115939517-f1c6fe80-a463-11eb-989c-812ab4942586.png\" width=\"380\" height=\"4200\"></center>"
   ]
  },
  {
   "cell_type": "markdown",
   "metadata": {},
   "source": [
    "<center> <h2>Ingeniero Renzo Bolivar - Docente DAIE</h2> </center> "
   ]
  },
  {
   "cell_type": "markdown",
   "metadata": {},
   "source": [
    "<center> <h1>Curso : Computación 2</h1> </center> "
   ]
  },
  {
   "cell_type": "markdown",
   "metadata": {},
   "source": [
    "![linea 1](https://user-images.githubusercontent.com/19308295/115926252-2b8a0c00-a448-11eb-9d9c-b43beaf0ff68.png)"
   ]
  },
  {
   "cell_type": "markdown",
   "metadata": {},
   "source": [
    "<center> <h1>MACHINE LEARNING</h1> </center> "
   ]
  },
  {
   "cell_type": "markdown",
   "metadata": {},
   "source": [
    "![linea 1](https://user-images.githubusercontent.com/19308295/115926252-2b8a0c00-a448-11eb-9d9c-b43beaf0ff68.png)"
   ]
  },
  {
   "cell_type": "markdown",
   "metadata": {},
   "source": [
    "# Descripción:"
   ]
  },
  {
   "cell_type": "markdown",
   "metadata": {},
   "source": [
    "<div class=\"alert alert-info\">\n",
    "\n",
    "En este notebook se define **Machine Learning** asi como los tipos, y se realizara un ejemplo básico de  **Aprendizaje Supervizado** y **Aprendizaje No Supervizado**\n",
    "    \n",
    "</div>\n",
    "\n"
   ]
  },
  {
   "cell_type": "markdown",
   "metadata": {},
   "source": [
    "# Objetivos:\n",
    "\n",
    "1. Definir **Machine Learning**\n",
    "2. Ejemplo de **Aprendizaje Supervisado** con librerías en **sklearn**.\n",
    "3. Ejemplo de **Aprendizaje No Supervisado** con librerías en **sklearn**."
   ]
  },
  {
   "cell_type": "markdown",
   "metadata": {},
   "source": [
    "algunas funciones importantes de pandas.\n",
    "\n",
    "[1. Machine Learning](#1.-Machine-Learning)<br>\n",
    "[2. Ejemplo de Aprendizaje Supervisado](#2.-Ejemplo-de-Aprendizaje-Supervisado)<br>\n",
    "[3. Ejemplo de Aprendizaje No Supervisado](#3.-Ejemplo-de-Aprendizaje-No-Supervisado)<br>\n",
    "\n",
    "\n",
    "[EJERCICIOS](#EJERCICIOS)<br>\n",
    "[BIBLIOGRAFÍA](#BIBLIOGRAFÍA)<br>"
   ]
  },
  {
   "cell_type": "markdown",
   "metadata": {},
   "source": [
    "![linea 1](https://user-images.githubusercontent.com/19308295/115926252-2b8a0c00-a448-11eb-9d9c-b43beaf0ff68.png)"
   ]
  },
  {
   "cell_type": "markdown",
   "metadata": {},
   "source": [
    "<img src=\"https://user-images.githubusercontent.com/19308295/124402675-6c7b8800-dcf7-11eb-9d38-6af2187f0c15.png\" width=\"800\" height=\"100\" />"
   ]
  },
  {
   "cell_type": "markdown",
   "metadata": {},
   "source": [
    "## <font color=#33A5FF>****1. Machine Learning****<tfont>"
   ]
  },
  {
   "cell_type": "markdown",
   "metadata": {},
   "source": [
    "<div class=\"well\">\n",
    "<strong>Machine Learning</strong> –aprendizaje automático– es una rama de la inteligencia artificial que permite que las Computadoras y/o Software aprendan sin estar programado para ello.</div>"
   ]
  },
  {
   "cell_type": "markdown",
   "metadata": {},
   "source": [
    "<div class=\"well\">\n",
    "<strong>Machine Learning</strong> moldeará nuestro futuro con más fuerza que cualquier otra innovación en este siglo.</div>"
   ]
  },
  {
   "cell_type": "markdown",
   "metadata": {},
   "source": [
    "<div class=\"well\">\n",
    "Los <strong>correos electrónicos</strong> es uno de los primeros ejemplos que nos dan al momento de aprender sobre <strong>Machine Learning</strong>. El simple hecho que se pueda detectar si un correo recibido es algo que nos interesa o simplemente un correo no deseado hace que nos ahorremos mucho tiempo en el día a día.\n",
    "\n",
    "Otra de las aplicaciones que usamos diariamente es el <strong>reconocimiento facial</strong> en las <strong>fotos</strong> que publicamos en <strong>Facebook</strong>. Este es uno de los algoritmos que ha perfeccionado en los últimos años Facebook y es considerado uno de los mejores en está área. Con el simple hecho de publicar una foto en la plataforma, el modelo realiza un escaneo de la misma y lo compara con los datos que tiene almacenado, relacionando los nombres de cada una de las personas que se encuentran en la foto.\n",
    "\n",
    "\n",
    "Las <strong>recomendaciones</strong> de las <strong>películas de Netflix</strong> conjuga una serie de algoritmos que unidos realiza las recomendaciones de las películas y series. Acá el algoritmo aprende tanto de las películas vistas, las películas que dejamos de ver, las que incluimos en nuestra lista de visualización, así como también si utilizamos un celular una tableta o una pantalla, y muchas más información que se utiliza para realizar las mejores recomendaciones para cada uno de los usuarios.</div>"
   ]
  },
  {
   "cell_type": "markdown",
   "metadata": {},
   "source": [
    "## Dataset en Machine Learning"
   ]
  },
  {
   "cell_type": "markdown",
   "metadata": {},
   "source": [
    "<div class=\"well\">\n",
    "Los <strong>Dataset en Machine Learning</strong> son  <strong>conjuntos de datos históricos </strong> que sirven de base para entrenar un algoritmo con el objetivo de que una máquina pueda tomar decisiones. Estas decisiones serán tomadas justamente de los datos provistos por el Dataset. El cual se subdivide en:\n",
    "</div>\n",
    "\n",
    "\n",
    "\n",
    "   - Características\n",
    "   - Objetivo\n",
    "   - Muestras"
   ]
  },
  {
   "cell_type": "markdown",
   "metadata": {},
   "source": [
    "<img src=\"https://user-images.githubusercontent.com/19308295/124402973-37703500-dcf9-11eb-828f-7f10d6f58767.png\" width=\"600\" height=\"100\" />"
   ]
  },
  {
   "cell_type": "markdown",
   "metadata": {},
   "source": [
    "<div class=\"alert alert-info\">\n",
    "Dónde las <strong>características</strong> son elementos para toma de decisión como talla, color, edad, superficie, etc. \n",
    "Las <strong>muestras</strong> son los valores de las características y  el <strong>objetivo</strong> es atributo o factor que queremos predecir, \n",
    "    \n",
    "    \n",
    "   Ejemplo: La probabilidad de que un paciente reingrese tras una operación. 1=SI, 2=NO</div>"
   ]
  },
  {
   "cell_type": "markdown",
   "metadata": {},
   "source": [
    "## Tipos de Machine Learning"
   ]
  },
  {
   "cell_type": "markdown",
   "metadata": {},
   "source": [
    "<div class=\"well\">\n",
    "El Machine Learning se divide en 2 áreas principales:\n",
    "    \n",
    "\n",
    "**Aprendizaje Supervisado**: Sirve para hacer predicciones a futuro basadas en comportamientos que se han visto en los datos almacenados. Ejemplo: Clasificar correo como SPAM según palabras en el asunto o el contenido.\n",
    "\n",
    "**Aprendizaje NO Supervisado**: Usa datos históricos “NO Etiquetados” con el fin de explorarlos para encontrar alguna estructura o forma de organizarlos, Ejemplo: Clasificar el comportamiento de los clientes en función del tipo de compras\n",
    "\n",
    "</div>"
   ]
  },
  {
   "cell_type": "markdown",
   "metadata": {},
   "source": [
    "![linea 2](https://user-images.githubusercontent.com/19308295/115926262-2fb62980-a448-11eb-8189-c2f10e499944.png)"
   ]
  },
  {
   "cell_type": "markdown",
   "metadata": {},
   "source": [
    "## <font color=#33A5FF>****2. Ejemplo de Aprendizaje Supervisado****<tfont>"
   ]
  },
  {
   "cell_type": "markdown",
   "metadata": {},
   "source": [
    "<div class=\"alert alert-info\">\n",
    "    \n",
    "En el **Aprendizaje Supervisado** cuenta con un conjunto de ejemplos de los cuáles **conocemos la respuesta**. Lo que deseamos es formular algún tipo de regla o correspondencia a partir de datos de entrenamiento que nos permita dar (o aproximar) la respuesta para todos los objetos que se nos presenten. La salida de la función puede ser un **valor numérico (como en los problemas de regresión)** o una **etiqueta de clase (como en los de clasificación)**.\n",
    "\n",
    "El **objetivo del aprendizaje supervisado** es el de crear una función capaz de predecir el valor correspondiente a cualquier objeto de entrada válida después de haber visto una serie de ejemplos, los datos de entrenamiento. Para ello, tiene que generalizar a partir de los datos presentados a las situaciones no vistas previamente.\n",
    "\n",
    "</div>"
   ]
  },
  {
   "cell_type": "markdown",
   "metadata": {},
   "source": [
    "## 1.- Tabla de Datos:"
   ]
  },
  {
   "cell_type": "markdown",
   "metadata": {},
   "source": [
    "Tabla determinada a partir de un conjunto de datos si un animal es perro o gato"
   ]
  },
  {
   "cell_type": "markdown",
   "metadata": {},
   "source": [
    "<table align=\"left\">\n",
    "    <tr>\n",
    "        <th scope=\"col\">Altura (pulgadas)</th>\n",
    "        <th>Peso (kg)</th>\n",
    "        <th>Temperatuta (Celsius)</th>\n",
    "        <th>Designación</th>\n",
    "    </tr>\n",
    "    <tr>\n",
    "        <td>7</td>\n",
    "        <td>0.6</td>\n",
    "        <td>40</td>\n",
    "        <td>Gato (0)</td>\n",
    "    </tr>\n",
    "    <tr>\n",
    "        <td>7</td>\n",
    "        <td>0.6</td>\n",
    "        <td>41</td>\n",
    "        <td>Gato (0)</td>\n",
    "    </tr>\n",
    "    <tr>\n",
    "        <td>37</td>\n",
    "        <td>0.8</td>\n",
    "        <td>37</td>\n",
    "        <td>Perro (1)</td>\n",
    "    </tr>\n",
    "    <tr>\n",
    "        <td>37</td>\n",
    "        <td>0.8</td>\n",
    "        <td>38</td>\n",
    "        <td>Perro (1)</td>\n",
    "    </tr>\n",
    "</table>"
   ]
  },
  {
   "cell_type": "markdown",
   "metadata": {},
   "source": [
    "#### De la libreria `scikit-learn` importamos `tree`  "
   ]
  },
  {
   "cell_type": "code",
   "execution_count": null,
   "metadata": {},
   "outputs": [],
   "source": [
    "\n"
   ]
  },
  {
   "cell_type": "markdown",
   "metadata": {},
   "source": [
    "#### matriz de datos"
   ]
  },
  {
   "cell_type": "code",
   "execution_count": null,
   "metadata": {},
   "outputs": [],
   "source": [
    "\n"
   ]
  },
  {
   "cell_type": "markdown",
   "metadata": {},
   "source": [
    "#### Utlizamos el algoritmo clasificador  árbol de decisiones"
   ]
  },
  {
   "cell_type": "code",
   "execution_count": null,
   "metadata": {},
   "outputs": [],
   "source": [
    "\n"
   ]
  },
  {
   "cell_type": "markdown",
   "metadata": {},
   "source": [
    "#### Entrenamos  árbol de decisiones"
   ]
  },
  {
   "cell_type": "code",
   "execution_count": null,
   "metadata": {},
   "outputs": [],
   "source": [
    "\n"
   ]
  },
  {
   "cell_type": "markdown",
   "metadata": {},
   "source": [
    "#### Hacemos una predicción"
   ]
  },
  {
   "cell_type": "code",
   "execution_count": null,
   "metadata": {},
   "outputs": [],
   "source": [
    "\n"
   ]
  },
  {
   "cell_type": "code",
   "execution_count": null,
   "metadata": {},
   "outputs": [],
   "source": [
    "\n",
    "\n",
    "\n"
   ]
  },
  {
   "cell_type": "code",
   "execution_count": null,
   "metadata": {},
   "outputs": [],
   "source": [
    "\n",
    "\n"
   ]
  },
  {
   "cell_type": "code",
   "execution_count": null,
   "metadata": {},
   "outputs": [],
   "source": [
    "\n",
    "\n",
    "\n"
   ]
  },
  {
   "cell_type": "markdown",
   "metadata": {},
   "source": [
    "![linea 2](https://user-images.githubusercontent.com/19308295/115926262-2fb62980-a448-11eb-8189-c2f10e499944.png)"
   ]
  },
  {
   "cell_type": "markdown",
   "metadata": {},
   "source": [
    "## <font color=#33A5FF>****3. Ejemplo de Aprendizaje No Supervisado****<tfont>"
   ]
  },
  {
   "cell_type": "markdown",
   "metadata": {},
   "source": [
    "<div class=\"alert alert-info\">\n",
    "    \n",
    "El **Aprendizaje NO Supervisado** sirve para entender y resumir los datos en Clusters.\n",
    "\n",
    "Recordando que el aprendizaje supervisado funciona a través de la **clasificación** y **regresión** y que requiere instancias (registros) etiquetados para su entrenamiento, el aprendizaje NO supervisado requiere instancias no etiquetadas particionando los datos en grupos, también conocidos como **Clusters**.\n",
    "\n",
    "</div>"
   ]
  },
  {
   "cell_type": "markdown",
   "metadata": {},
   "source": [
    "## Dataset en Machine Learning"
   ]
  },
  {
   "cell_type": "markdown",
   "metadata": {},
   "source": [
    "#### Importamos pandas"
   ]
  },
  {
   "cell_type": "code",
   "execution_count": null,
   "metadata": {},
   "outputs": [],
   "source": [
    "\n"
   ]
  },
  {
   "cell_type": "markdown",
   "metadata": {},
   "source": [
    "#### Data en base a diccionario"
   ]
  },
  {
   "cell_type": "code",
   "execution_count": null,
   "metadata": {},
   "outputs": [],
   "source": [
    "\n",
    "\n"
   ]
  },
  {
   "cell_type": "markdown",
   "metadata": {},
   "source": [
    "#### Creamos el Dataframe"
   ]
  },
  {
   "cell_type": "code",
   "execution_count": null,
   "metadata": {},
   "outputs": [],
   "source": [
    "\n"
   ]
  },
  {
   "cell_type": "code",
   "execution_count": null,
   "metadata": {},
   "outputs": [],
   "source": [
    "\n"
   ]
  },
  {
   "cell_type": "markdown",
   "metadata": {},
   "source": [
    "#### Impresión del DataFrame con matplotlib"
   ]
  },
  {
   "cell_type": "code",
   "execution_count": null,
   "metadata": {},
   "outputs": [],
   "source": [
    "\n",
    "\n"
   ]
  },
  {
   "cell_type": "markdown",
   "metadata": {},
   "source": [
    "#### De la libreria `scikit-learn` importamos `KMeans`  "
   ]
  },
  {
   "cell_type": "code",
   "execution_count": null,
   "metadata": {},
   "outputs": [],
   "source": [
    "\n"
   ]
  },
  {
   "cell_type": "markdown",
   "metadata": {},
   "source": [
    "#### Entrenamos el algoritmo `KMeans` con 03 `centroides`"
   ]
  },
  {
   "cell_type": "code",
   "execution_count": null,
   "metadata": {},
   "outputs": [],
   "source": [
    "\n"
   ]
  },
  {
   "cell_type": "markdown",
   "metadata": {},
   "source": [
    "#### Ubicamos los `centroides` de los `cluster` encontrados por  `KMeans`"
   ]
  },
  {
   "cell_type": "code",
   "execution_count": null,
   "metadata": {},
   "outputs": [],
   "source": [
    "\n"
   ]
  },
  {
   "cell_type": "code",
   "execution_count": null,
   "metadata": {},
   "outputs": [],
   "source": [
    "\n"
   ]
  },
  {
   "cell_type": "markdown",
   "metadata": {},
   "source": [
    "#### Imprimimos los `centroides` de los `cluster` encontrados por  `KMeans`"
   ]
  },
  {
   "cell_type": "code",
   "execution_count": null,
   "metadata": {},
   "outputs": [],
   "source": [
    "\n",
    "\n"
   ]
  },
  {
   "cell_type": "markdown",
   "metadata": {},
   "source": [
    "#### Entrenamos el algoritmo `KMeans` nuevamente pero con 04 `centroides`"
   ]
  },
  {
   "cell_type": "code",
   "execution_count": null,
   "metadata": {},
   "outputs": [],
   "source": [
    "\n",
    "\n"
   ]
  },
  {
   "cell_type": "markdown",
   "metadata": {},
   "source": [
    "#### Imprimimos los `centroides` de los `cluster` encontrados por  `KMeans`"
   ]
  },
  {
   "cell_type": "code",
   "execution_count": null,
   "metadata": {},
   "outputs": [],
   "source": [
    "\n",
    "\n"
   ]
  },
  {
   "cell_type": "markdown",
   "metadata": {},
   "source": [
    "![linea 2](https://user-images.githubusercontent.com/19308295/115926262-2fb62980-a448-11eb-8189-c2f10e499944.png)"
   ]
  },
  {
   "cell_type": "markdown",
   "metadata": {},
   "source": [
    "![linea 2](https://user-images.githubusercontent.com/19308295/115926262-2fb62980-a448-11eb-8189-c2f10e499944.png)"
   ]
  },
  {
   "cell_type": "markdown",
   "metadata": {},
   "source": [
    "## <font color=#33A5FF>****BIBLIOGRAFÍA****<tfont>"
   ]
  },
  {
   "cell_type": "markdown",
   "metadata": {},
   "source": [
    "[1] Guía oficial scikit learn https://scikit-learn.org/stable/\n",
    "\n",
    "[2] Guía oficial scikit learn KMeans https://bit.ly/3fqmbLi\n",
    "\n",
    "[3] Guía oficial scikit learn Tree \n",
    "\n",
    "https://bit.ly/2Ojeo5Y\n",
    "      \n",
    "https://bit.ly/38Qedsc\n",
    "\n",
    "[4] Dataset variados https://www.kaggle.com/datasets"
   ]
  },
  {
   "cell_type": "markdown",
   "metadata": {},
   "source": [
    "![linea 1](https://user-images.githubusercontent.com/19308295/115926252-2b8a0c00-a448-11eb-9d9c-b43beaf0ff68.png)"
   ]
  }
 ],
 "metadata": {
  "kernelspec": {
   "display_name": "Python 3",
   "language": "python",
   "name": "python3"
  },
  "language_info": {
   "codemirror_mode": {
    "name": "ipython",
    "version": 3
   },
   "file_extension": ".py",
   "mimetype": "text/x-python",
   "name": "python",
   "nbconvert_exporter": "python",
   "pygments_lexer": "ipython3",
   "version": "3.8.8"
  }
 },
 "nbformat": 4,
 "nbformat_minor": 4
}
